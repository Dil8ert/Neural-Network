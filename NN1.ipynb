{
  "nbformat": 4,
  "nbformat_minor": 0,
  "metadata": {
    "colab": {
      "name": "NN1.ipynb",
      "provenance": [],
      "collapsed_sections": [],
      "authorship_tag": "ABX9TyNElOxLugqshRoDA9qVmQvk",
      "include_colab_link": true
    },
    "kernelspec": {
      "name": "python3",
      "display_name": "Python 3"
    },
    "language_info": {
      "name": "python"
    }
  },
  "cells": [
    {
      "cell_type": "markdown",
      "metadata": {
        "id": "view-in-github",
        "colab_type": "text"
      },
      "source": [
        "<a href=\"https://colab.research.google.com/github/Dil8ert/Neural-Network/blob/main/NN1.ipynb\" target=\"_parent\"><img src=\"https://colab.research.google.com/assets/colab-badge.svg\" alt=\"Open In Colab\"/></a>"
      ]
    },
    {
      "cell_type": "code",
      "metadata": {
        "id": "eisps0I9RLbu"
      },
      "source": [
        "#Predicting the flower type (1 or 0) based on the petal height and width\n",
        "import numpy as np\n"
      ],
      "execution_count": 1,
      "outputs": []
    },
    {
      "cell_type": "code",
      "metadata": {
        "id": "o1OMi1Ml1u5K"
      },
      "source": [
        "#dataset column 1 -> flower type\n",
        "#        column 2 -> width of petal\n",
        "#        column 3 -> Height of petal\n",
        "\n",
        "dataset = [[1, 3 , 5],\n",
        "           [0, 2 ,1],\n",
        "           [1, 4 ,1.5],\n",
        "           [0, 3 ,1],\n",
        "           [1, 3.5 ,0.5],\n",
        "           [0, 2, 0.5],\n",
        "           [1, 5.5, 1],\n",
        "           [0, 1 ,1]]\n",
        "\n",
        "w1 = np.random.rand()\n",
        "w2 = np.random.rand()\n",
        "b = np.random.rand()\n",
        "\n",
        "def sigmoid(z):\n",
        "  return 1/(1 + np.exp(-z))\n",
        "  \n",
        "def NN(m1,m2,b,w1,w2):\n",
        "  z = m1*w1 + m2*w2 + b\n",
        "  return sigmoid(z)"
      ],
      "execution_count": 2,
      "outputs": []
    },
    {
      "cell_type": "code",
      "metadata": {
        "colab": {
          "base_uri": "https://localhost:8080/"
        },
        "id": "NmrGFzWB29yt",
        "outputId": "573f335b-a8d6-4288-b8fa-e641bb39e9b9"
      },
      "source": [
        "for temp in dataset:\n",
        "  for i in range(1000):\n",
        "    m1 = temp[1]\n",
        "    m2 = temp[2]\n",
        "    target = temp[0]\n",
        "    prediction = NN(m1,m2,b,w1,w2)\n",
        "    cost = (prediction - target)**2\n",
        "    cost_p = 2*(prediction - target)\n",
        "    pred_p = prediction * (1-prediction)\n",
        "    w1_p = temp[1]\n",
        "    w2_p = temp[2]\n",
        "    cost_p_w1 = cost_p * pred_p * w1_p\n",
        "    cost_p_w2 = cost_p * pred_p * w2_p\n",
        "    b = 1\n",
        "    w1 = w1 - 0.2*cost_p_w1\n",
        "    w2 = w2 - 0.2*cost_p_w2\n",
        "\n",
        "  print(\"Prediction-> \"+str(round(cost)),\"Target-> \"+str(round(temp[0])))\n",
        "  print(w1,w2)\n",
        "\n",
        "  "
      ],
      "execution_count": 5,
      "outputs": [
        {
          "output_type": "stream",
          "name": "stdout",
          "text": [
            "Prediction-> 1 Target-> 1\n",
            "-2.843723267235387 -2.1173735426174134\n",
            "Prediction-> 0 Target-> 0\n",
            "-2.844700496360014 -2.117862157179729\n",
            "Prediction-> 1 Target-> 1\n",
            "-2.842615718241825 -2.117080365385415\n",
            "Prediction-> 0 Target-> 0\n",
            "-2.8426207487517225 -2.117082042222047\n",
            "Prediction-> 1 Target-> 1\n",
            "-2.7711814785528706 -2.1068764321936335\n",
            "Prediction-> 0 Target-> 0\n",
            "-2.7818472841778523 -2.1095428835998824\n",
            "Prediction-> 1 Target-> 1\n",
            "-2.781682853897214 -2.1095129871852207\n",
            "Prediction-> 0 Target-> 0\n",
            "-2.9042459929931277 -2.2320761262811346\n"
          ]
        }
      ]
    },
    {
      "cell_type": "code",
      "metadata": {
        "colab": {
          "base_uri": "https://localhost:8080/"
        },
        "id": "KAGCem9g4HSc",
        "outputId": "403c79ae-b6d2-414a-bb2b-d35a933d290c"
      },
      "source": [
        "round(NN(1,4.5,1,-3.5508929881376217,-1.928151498304892))"
      ],
      "execution_count": 6,
      "outputs": [
        {
          "output_type": "execute_result",
          "data": {
            "text/plain": [
              "0"
            ]
          },
          "metadata": {},
          "execution_count": 6
        }
      ]
    },
    {
      "cell_type": "code",
      "metadata": {
        "id": "MYOrSes8dn1V"
      },
      "source": [
        ""
      ],
      "execution_count": null,
      "outputs": []
    }
  ]
}